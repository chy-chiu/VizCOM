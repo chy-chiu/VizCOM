{
 "cells": [
  {
   "cell_type": "code",
   "execution_count": 2,
   "metadata": {},
   "outputs": [],
   "source": [
    "import numpy as np\n",
    "from cardiacmap.data import CascadeDataFile\n",
    "import matplotlib.pyplot as plt\n",
    "import numpy as np\n",
    "from scipy.signal import butter, filtfilt\n",
    "import cv2\n"
   ]
  },
  {
   "cell_type": "code",
   "execution_count": 7,
   "metadata": {},
   "outputs": [],
   "source": [
    "CascadeDataFile = CascadeDataFile.load_data(\"2011-08-23_Exp000_Rec112_Cam1-Blue.dat\")\n",
    "signal = CascadeDataFile.signals[0]"
   ]
  },
  {
   "cell_type": "code",
   "execution_count": 4,
   "metadata": {},
   "outputs": [],
   "source": [
    "def normalize(data):\n",
    "\n",
    "    return ((data - np.amin(data)) / (np.amax(data) - np.amin(data)) * 256).astype(np.uint8)\n",
    "\n",
    "    \n",
    "def normalize_flat(data):\n",
    "\n",
    "    return ((data - np.amin(data, axis=0)) / (np.amax(data, axis=0) - np.amin(data, axis=0)) * 256).astype(np.uint8)"
   ]
  },
  {
   "cell_type": "code",
   "execution_count": 9,
   "metadata": {},
   "outputs": [
    {
     "name": "stdout",
     "output_type": "stream",
     "text": [
      "[[3574 3762 3905 ... 2275 2268 2270]\n",
      " [3604 3711 3760 ... 2262 2262 2260]\n",
      " [3500 3605 3635 ... 2258 2257 2250]\n",
      " ...\n",
      " [2392 2386 2393 ... 2259 2259 2256]\n",
      " [2369 2370 2378 ... 2250 2253 2248]\n",
      " [2155 2160 2159 ... 2157 2154 2156]]\n"
     ]
    }
   ],
   "source": [
    "signal.normalize()\n"
   ]
  },
  {
   "cell_type": "code",
   "execution_count": 15,
   "metadata": {},
   "outputs": [
    {
     "name": "stdout",
     "output_type": "stream",
     "text": [
      "(4657, 128, 128)\n"
     ]
    }
   ],
   "source": [
    "signal.perform_average(type=\"time\", sig=4, rad=3)\n",
    "signal.perform_average(type=\"spatial\", sig=8, rad=6)"
   ]
  },
  {
   "cell_type": "code",
   "execution_count": 19,
   "metadata": {},
   "outputs": [],
   "source": [
    "# Config 1\n",
    "data = normalize(signal.base_data)\n",
    "\n",
    "fourcc = cv2.VideoWriter_fourcc(*'mp4v')\n",
    "writer = cv2.VideoWriter('video_1.mp4', fourcc, 230, (128, 128), True)\n",
    "\n",
    "for frame in data:\n",
    "    writer.write(cv2.applyColorMap(frame, cv2.COLORMAP_RAINBOW))\n",
    "\n",
    "writer.release()"
   ]
  },
  {
   "cell_type": "code",
   "execution_count": 20,
   "metadata": {},
   "outputs": [],
   "source": [
    "# Config 2\n",
    "data = normalize_flat(signal.base_data)\n",
    "\n",
    "fourcc = cv2.VideoWriter_fourcc(*'mp4v')\n",
    "writer = cv2.VideoWriter('video_2.mp4', fourcc, 230, (128, 128), True)\n",
    "\n",
    "for frame in data:\n",
    "    writer.write(cv2.applyColorMap(frame, cv2.COLORMAP_RAINBOW))\n",
    "\n",
    "writer.release()"
   ]
  },
  {
   "cell_type": "code",
   "execution_count": 21,
   "metadata": {},
   "outputs": [],
   "source": [
    "# Config 3\n",
    "data = normalize(signal.transformed_data)\n",
    "\n",
    "fourcc = cv2.VideoWriter_fourcc(*'mp4v')\n",
    "writer = cv2.VideoWriter('video_3.mp4', fourcc, 230, (128, 128), True)\n",
    "\n",
    "for frame in data:\n",
    "    writer.write(cv2.applyColorMap(frame, cv2.COLORMAP_RAINBOW))\n",
    "\n",
    "writer.release()"
   ]
  },
  {
   "cell_type": "code",
   "execution_count": 22,
   "metadata": {},
   "outputs": [],
   "source": [
    "# Config 4\n",
    "data = normalize_flat(signal.transformed_data)\n",
    "\n",
    "fourcc = cv2.VideoWriter_fourcc(*'mp4v')\n",
    "writer = cv2.VideoWriter('video_4.mp4', fourcc, 230, (128, 128), True)\n",
    "\n",
    "for frame in data:\n",
    "    writer.write(cv2.applyColorMap(frame, cv2.COLORMAP_RAINBOW))\n",
    "\n",
    "writer.release()"
   ]
  },
  {
   "cell_type": "code",
   "execution_count": null,
   "metadata": {},
   "outputs": [],
   "source": []
  }
 ],
 "metadata": {
  "kernelspec": {
   "display_name": "cardiacmap",
   "language": "python",
   "name": "python3"
  },
  "language_info": {
   "codemirror_mode": {
    "name": "ipython",
    "version": 3
   },
   "file_extension": ".py",
   "mimetype": "text/x-python",
   "name": "python",
   "nbconvert_exporter": "python",
   "pygments_lexer": "ipython3",
   "version": "3.11.7"
  }
 },
 "nbformat": 4,
 "nbformat_minor": 2
}
