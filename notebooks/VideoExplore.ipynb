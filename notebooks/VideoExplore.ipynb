{
 "cells": [
  {
   "cell_type": "code",
   "execution_count": 1,
   "metadata": {},
   "outputs": [],
   "source": [
    "import numpy as np\n",
    "from cardiacmap.data import CascadeDataFile\n",
    "import matplotlib.pyplot as plt\n",
    "import numpy as np\n",
    "from scipy.signal import butter, filtfilt\n",
    "import cv2\n"
   ]
  },
  {
   "cell_type": "code",
   "execution_count": 2,
   "metadata": {},
   "outputs": [],
   "source": [
    "CascadeDataFile = CascadeDataFile.load_data(\"2011-08-23_Exp000_Rec112_Cam1-Blue.dat\")\n",
    "signal = CascadeDataFile.signals[0]"
   ]
  },
  {
   "cell_type": "code",
   "execution_count": 3,
   "metadata": {},
   "outputs": [],
   "source": [
    "def normalize(data):\n",
    "\n",
    "    return ((data - np.amin(data)) / (np.amax(data) - np.amin(data)) * 256).astype(np.uint8)\n",
    "\n",
    "    \n",
    "def normalize_flat(data):\n",
    "\n",
    "    return ((data - np.amin(data, axis=0)) / (np.amax(data, axis=0) - np.amin(data, axis=0)) * 256).astype(np.uint8)"
   ]
  },
  {
   "cell_type": "code",
   "execution_count": 9,
   "metadata": {},
   "outputs": [
    {
     "name": "stdout",
     "output_type": "stream",
     "text": [
      "[[3574 3762 3905 ... 2275 2268 2270]\n",
      " [3604 3711 3760 ... 2262 2262 2260]\n",
      " [3500 3605 3635 ... 2258 2257 2250]\n",
      " ...\n",
      " [2392 2386 2393 ... 2259 2259 2256]\n",
      " [2369 2370 2378 ... 2250 2253 2248]\n",
      " [2155 2160 2159 ... 2157 2154 2156]]\n"
     ]
    }
   ],
   "source": [
    "signal.normalize()\n"
   ]
  },
  {
   "cell_type": "code",
   "execution_count": 4,
   "metadata": {},
   "outputs": [
    {
     "name": "stdout",
     "output_type": "stream",
     "text": [
      "(4657, 128, 128)\n"
     ]
    }
   ],
   "source": [
    "signal.perform_average(type=\"time\", sig=4, rad=3)\n",
    "signal.perform_average(type=\"spatial\", sig=8, rad=6)"
   ]
  },
  {
   "cell_type": "code",
   "execution_count": 5,
   "metadata": {},
   "outputs": [],
   "source": [
    "# Config 1\n",
    "data = normalize(signal.base_data)\n",
    "\n",
    "fourcc = cv2.VideoWriter_fourcc(*'mp4v')\n",
    "writer = cv2.VideoWriter('video_1.mp4', fourcc, 230, (128, 128), True)\n",
    "\n",
    "for frame in data:\n",
    "    writer.write(cv2.applyColorMap(frame, cv2.COLORMAP_RAINBOW))\n",
    "\n",
    "writer.release()"
   ]
  },
  {
   "cell_type": "code",
   "execution_count": 7,
   "metadata": {},
   "outputs": [],
   "source": [
    "import ffmpeg"
   ]
  },
  {
   "cell_type": "code",
   "execution_count": 6,
   "metadata": {},
   "outputs": [],
   "source": [
    "def _render_video(data, output_filename):\n",
    "\n",
    "    # Initialize ffmpeg input stream\n",
    "\n",
    "    process = (\n",
    "        ffmpeg.input('pipe:', format='rawvideo', pix_fmt='bgr24', s='128x128', r=230)\n",
    "        .output(output_filename, vcodec='libx264', pix_fmt='yuv420p')\n",
    "        .overwrite_output()\n",
    "        .run_async(pipe_stdin=True)\n",
    "    )\n",
    "\n",
    "    for frame in data:\n",
    "\n",
    "        color_mapped_frame = cv2.applyColorMap(frame, cv2.COLORMAP_RAINBOW)\n",
    "        process.stdin.write(color_mapped_frame.astype(np.uint8).tobytes())\n",
    "\n",
    "    process.stdin.close()\n",
    "\n",
    "    process.wait()\n",
    "\n",
    "    print(f\"Video saved as {output_filename}\")\n"
   ]
  },
  {
   "cell_type": "code",
   "execution_count": 9,
   "metadata": {},
   "outputs": [
    {
     "name": "stderr",
     "output_type": "stream",
     "text": [
      "ffmpeg version 4.4.2-0ubuntu0.22.04.1 Copyright (c) 2000-2021 the FFmpeg developers\n",
      "  built with gcc 11 (Ubuntu 11.2.0-19ubuntu1)\n",
      "  configuration: --prefix=/usr --extra-version=0ubuntu0.22.04.1 --toolchain=hardened --libdir=/usr/lib/x86_64-linux-gnu --incdir=/usr/include/x86_64-linux-gnu --arch=amd64 --enable-gpl --disable-stripping --enable-gnutls --enable-ladspa --enable-libaom --enable-libass --enable-libbluray --enable-libbs2b --enable-libcaca --enable-libcdio --enable-libcodec2 --enable-libdav1d --enable-libflite --enable-libfontconfig --enable-libfreetype --enable-libfribidi --enable-libgme --enable-libgsm --enable-libjack --enable-libmp3lame --enable-libmysofa --enable-libopenjpeg --enable-libopenmpt --enable-libopus --enable-libpulse --enable-librabbitmq --enable-librubberband --enable-libshine --enable-libsnappy --enable-libsoxr --enable-libspeex --enable-libsrt --enable-libssh --enable-libtheora --enable-libtwolame --enable-libvidstab --enable-libvorbis --enable-libvpx --enable-libwebp --enable-libx265 --enable-libxml2 --enable-libxvid --enable-libzimg --enable-libzmq --enable-libzvbi --enable-lv2 --enable-omx --enable-openal --enable-opencl --enable-opengl --enable-sdl2 --enable-pocketsphinx --enable-librsvg --enable-libmfx --enable-libdc1394 --enable-libdrm --enable-libiec61883 --enable-chromaprint --enable-frei0r --enable-libx264 --enable-shared\n",
      "  libavutil      56. 70.100 / 56. 70.100\n",
      "  libavcodec     58.134.100 / 58.134.100\n",
      "  libavformat    58. 76.100 / 58. 76.100\n",
      "  libavdevice    58. 13.100 / 58. 13.100\n",
      "  libavfilter     7.110.100 /  7.110.100\n",
      "  libswscale      5.  9.100 /  5.  9.100\n",
      "  libswresample   3.  9.100 /  3.  9.100\n",
      "  libpostproc    55.  9.100 / 55.  9.100\n",
      "Input #0, rawvideo, from 'pipe:':\n",
      "  Duration: N/A, start: 0.000000, bitrate: 90439 kb/s\n",
      "  Stream #0:0: Video: rawvideo (BGR[24] / 0x18524742), bgr24, 128x128, 90439 kb/s, 230 fps, 230 tbr, 230 tbn, 230 tbc\n",
      "Stream mapping:\n",
      "  Stream #0:0 -> #0:0 (rawvideo (native) -> h264 (libx264))\n",
      "[libx264 @ 0x55c676ec2200] using cpu capabilities: MMX2 SSE2Fast SSSE3 SSE4.2 AVX FMA3 BMI2 AVX2\n",
      "[libx264 @ 0x55c676ec2200] profile High, level 2.1, 4:2:0, 8-bit\n",
      "[libx264 @ 0x55c676ec2200] 264 - core 163 r3060 5db6aa6 - H.264/MPEG-4 AVC codec - Copyleft 2003-2021 - http://www.videolan.org/x264.html - options: cabac=1 ref=3 deblock=1:0:0 analyse=0x3:0x113 me=hex subme=7 psy=1 psy_rd=1.00:0.00 mixed_ref=1 me_range=16 chroma_me=1 trellis=1 8x8dct=1 cqm=0 deadzone=21,11 fast_pskip=1 chroma_qp_offset=-2 threads=4 lookahead_threads=1 sliced_threads=0 nr=0 decimate=1 interlaced=0 bluray_compat=0 constrained_intra=0 bframes=3 b_pyramid=2 b_adapt=1 b_bias=0 direct=1 weightb=1 open_gop=0 weightp=2 keyint=250 keyint_min=25 scenecut=40 intra_refresh=0 rc_lookahead=40 rc=crf mbtree=1 crf=23.0 qcomp=0.60 qpmin=0 qpmax=69 qpstep=4 ip_ratio=1.40 aq=1:1.00\n",
      "Output #0, mp4, to 'test.mp4':\n",
      "  Metadata:\n",
      "    encoder         : Lavf58.76.100\n",
      "  Stream #0:0: Video: h264 (avc1 / 0x31637661), yuv420p(tv, progressive), 128x128, q=2-31, 230 fps, 14720 tbn\n",
      "    Metadata:\n",
      "      encoder         : Lavc58.134.100 libx264\n",
      "    Side data:\n",
      "      cpb: bitrate max/min/avg: 0/0/0 buffer size: 0 vbv_delay: N/A\n",
      "frame=    1 fps=0.0 q=0.0 size=       0kB time=00:00:00.00 bitrate=N/A speed=N/A    \r"
     ]
    },
    {
     "name": "stdout",
     "output_type": "stream",
     "text": [
      "Video saved as test.mp4\n"
     ]
    },
    {
     "name": "stderr",
     "output_type": "stream",
     "text": [
      "frame= 4657 fps=0.0 q=-1.0 Lsize=     184kB time=00:00:20.23 bitrate=  74.7kbits/s speed=30.5x    \n",
      "video:129kB audio:0kB subtitle:0kB other streams:0kB global headers:0kB muxing overhead: 42.866543%\n",
      "[libx264 @ 0x55c676ec2200] frame I:19    Avg QP:22.92  size:  2426\n",
      "[libx264 @ 0x55c676ec2200] frame P:1173  Avg QP:26.41  size:    33\n",
      "[libx264 @ 0x55c676ec2200] frame B:3465  Avg QP:36.37  size:    13\n",
      "[libx264 @ 0x55c676ec2200] consecutive B-frames:  0.8%  0.0%  0.0% 99.2%\n",
      "[libx264 @ 0x55c676ec2200] mb I  I16..4:  2.4% 62.2% 35.4%\n",
      "[libx264 @ 0x55c676ec2200] mb P  I16..4:  0.0%  0.0%  0.0%  P16..4:  6.0%  1.3%  0.5%  0.0%  0.0%    skip:92.2%\n",
      "[libx264 @ 0x55c676ec2200] mb B  I16..4:  0.0%  0.0%  0.0%  B16..8:  1.0%  0.0%  0.0%  direct: 0.0%  skip:99.0%  L0:14.2% L1:85.8% BI: 0.0%\n",
      "[libx264 @ 0x55c676ec2200] 8x8 transform intra:62.2% inter:96.1%\n",
      "[libx264 @ 0x55c676ec2200] coded y,uvDC,uvAC intra: 94.4% 99.8% 95.1% inter: 0.3% 1.1% 0.0%\n",
      "[libx264 @ 0x55c676ec2200] i16 v,h,dc,p:  3%  7%  7% 83%\n",
      "[libx264 @ 0x55c676ec2200] i8 v,h,dc,ddl,ddr,vr,hd,vl,hu: 17% 11%  9% 11%  8% 11%  7% 13% 14%\n",
      "[libx264 @ 0x55c676ec2200] i4 v,h,dc,ddl,ddr,vr,hd,vl,hu: 15% 18%  9% 10% 11% 11%  9%  9%  9%\n",
      "[libx264 @ 0x55c676ec2200] i8c dc,h,v,p: 42%  4% 25% 29%\n",
      "[libx264 @ 0x55c676ec2200] Weighted P-Frames: Y:0.0% UV:0.0%\n",
      "[libx264 @ 0x55c676ec2200] ref P L0: 66.5% 26.6%  6.5%  0.4%\n",
      "[libx264 @ 0x55c676ec2200] ref B L0: 74.8% 25.2%\n",
      "[libx264 @ 0x55c676ec2200] ref B L1: 95.3%  4.7%\n",
      "[libx264 @ 0x55c676ec2200] kb/s:51.96\n"
     ]
    }
   ],
   "source": [
    "_render_video(data, \"test.mp4\")"
   ]
  },
  {
   "cell_type": "code",
   "execution_count": 20,
   "metadata": {},
   "outputs": [],
   "source": [
    "# Config 2\n",
    "data = normalize_flat(signal.base_data)\n",
    "\n",
    "fourcc = cv2.VideoWriter_fourcc(*'mp4v')\n",
    "writer = cv2.VideoWriter('video_2.mp4', fourcc, 230, (128, 128), True)\n",
    "\n",
    "for frame in data:\n",
    "    writer.write(cv2.applyColorMap(frame, cv2.COLORMAP_RAINBOW))\n",
    "\n",
    "writer.release()"
   ]
  },
  {
   "cell_type": "code",
   "execution_count": 21,
   "metadata": {},
   "outputs": [],
   "source": [
    "# Config 3\n",
    "data = normalize(signal.transformed_data)\n",
    "\n",
    "fourcc = cv2.VideoWriter_fourcc(*'mp4v')\n",
    "writer = cv2.VideoWriter('video_3.mp4', fourcc, 230, (128, 128), True)\n",
    "\n",
    "for frame in data:\n",
    "    writer.write(cv2.applyColorMap(frame, cv2.COLORMAP_RAINBOW))\n",
    "\n",
    "writer.release()"
   ]
  },
  {
   "cell_type": "code",
   "execution_count": 22,
   "metadata": {},
   "outputs": [],
   "source": [
    "# Config 4\n",
    "data = normalize_flat(signal.transformed_data)\n",
    "\n",
    "fourcc = cv2.VideoWriter_fourcc(*'mp4v')\n",
    "writer = cv2.VideoWriter('video_4.mp4', fourcc, 230, (128, 128), True)\n",
    "\n",
    "for frame in data:\n",
    "    writer.write(cv2.applyColorMap(frame, cv2.COLORMAP_RAINBOW))\n",
    "\n",
    "writer.release()"
   ]
  },
  {
   "cell_type": "code",
   "execution_count": null,
   "metadata": {},
   "outputs": [],
   "source": []
  }
 ],
 "metadata": {
  "kernelspec": {
   "display_name": "cardiacmap",
   "language": "python",
   "name": "python3"
  },
  "language_info": {
   "codemirror_mode": {
    "name": "ipython",
    "version": 3
   },
   "file_extension": ".py",
   "mimetype": "text/x-python",
   "name": "python",
   "nbconvert_exporter": "python",
   "pygments_lexer": "ipython3",
   "version": "3.11.7"
  }
 },
 "nbformat": 4,
 "nbformat_minor": 2
}
